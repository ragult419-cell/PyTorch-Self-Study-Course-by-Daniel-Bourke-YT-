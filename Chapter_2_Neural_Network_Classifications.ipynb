{
  "nbformat": 4,
  "nbformat_minor": 0,
  "metadata": {
    "colab": {
      "provenance": []
    },
    "kernelspec": {
      "name": "python3",
      "display_name": "Python 3"
    },
    "language_info": {
      "name": "python"
    }
  },
  "cells": [
    {
      "cell_type": "markdown",
      "source": [
        "### Notes\n",
        "\n",
        "Binary - (Scam, not scam)\n",
        "Multiclass classification - (more than one thing or another) - (pizza, sushi, steak) - ONE LABEL\n",
        "Multilabel classification - (multiple label options per sample) - ex. A website can have numerous tags\n",
        "Input - numerical representation (tensors)\n",
        "Output - probabilities ( ex. in binary, percent confidence that a data point belongs in one group or another)\n"
      ],
      "metadata": {
        "id": "k_JDsiS2Bn0B"
      }
    },
    {
      "cell_type": "code",
      "source": [
        "import sklearn\n",
        "from sklearn.datasets import make_circles\n",
        "\n",
        "# Make 1000 samples\n",
        "n_samples = 1000\n",
        "\n",
        "# Create circles\n",
        "X, y = make_circles(n_samples,\n",
        "                    noise=0.03,\n",
        "                    random_state=42)"
      ],
      "metadata": {
        "id": "wF_k8AjxGeR1"
      },
      "execution_count": 1,
      "outputs": []
    },
    {
      "cell_type": "code",
      "source": [
        "len(X), len(y)"
      ],
      "metadata": {
        "colab": {
          "base_uri": "https://localhost:8080/"
        },
        "id": "GHGu9hpzG-C3",
        "outputId": "76f4d9cd-ca9e-48fb-91f3-223f6b9094e5"
      },
      "execution_count": 2,
      "outputs": [
        {
          "output_type": "execute_result",
          "data": {
            "text/plain": [
              "(1000, 1000)"
            ]
          },
          "metadata": {},
          "execution_count": 2
        }
      ]
    },
    {
      "cell_type": "code",
      "source": [
        "print(f\"First 5 samples of X:\\n {X[:5]}\")\n",
        "print(f\"First 5 samples of y:\\n {y[:5]}\")"
      ],
      "metadata": {
        "colab": {
          "base_uri": "https://localhost:8080/"
        },
        "id": "k5op4NAoHBd3",
        "outputId": "3a0744f3-1c0c-4c82-d1bc-6cbf97b9a624"
      },
      "execution_count": 3,
      "outputs": [
        {
          "output_type": "stream",
          "name": "stdout",
          "text": [
            "First 5 samples of X:\n",
            " [[ 0.75424625  0.23148074]\n",
            " [-0.75615888  0.15325888]\n",
            " [-0.81539193  0.17328203]\n",
            " [-0.39373073  0.69288277]\n",
            " [ 0.44220765 -0.89672343]]\n",
            "First 5 samples of y:\n",
            " [1 1 1 1 0]\n"
          ]
        }
      ]
    },
    {
      "cell_type": "markdown",
      "source": [
        "Stopped at 9:03:32\n"
      ],
      "metadata": {
        "id": "mAPKymEjHzWA"
      }
    }
  ]
}