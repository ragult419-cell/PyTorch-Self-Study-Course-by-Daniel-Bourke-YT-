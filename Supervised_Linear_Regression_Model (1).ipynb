{
  "nbformat": 4,
  "nbformat_minor": 0,
  "metadata": {
    "colab": {
      "provenance": []
    },
    "kernelspec": {
      "name": "python3",
      "display_name": "Python 3"
    },
    "language_info": {
      "name": "python"
    }
  },
  "cells": [
    {
      "cell_type": "code",
      "execution_count": 1,
      "metadata": {
        "colab": {
          "base_uri": "https://localhost:8080/",
          "height": 35
        },
        "id": "xi0iuSKEF9Os",
        "outputId": "d5edaa1e-018e-4bf8-a830-085b0d088e7d"
      },
      "outputs": [
        {
          "output_type": "execute_result",
          "data": {
            "text/plain": [
              "'2.8.0+cu126'"
            ],
            "application/vnd.google.colaboratory.intrinsic+json": {
              "type": "string"
            }
          },
          "metadata": {},
          "execution_count": 1
        }
      ],
      "source": [
        "import torch\n",
        "from torch import nn\n",
        "import matplotlib.pyplot as plt\n",
        "\n",
        "# Check PyTorch Version\n",
        "torch.__version__"
      ]
    },
    {
      "cell_type": "code",
      "source": [
        "# Setup device agnostic code\n",
        "device = \"cuda\" if torch.cuda.is_available() else \"cpu\"\n",
        "print(f\"Using device: {device}\")"
      ],
      "metadata": {
        "colab": {
          "base_uri": "https://localhost:8080/"
        },
        "id": "_JCaml6YGILJ",
        "outputId": "13003515-f550-4358-b6b4-59d5377a6900"
      },
      "execution_count": 2,
      "outputs": [
        {
          "output_type": "stream",
          "name": "stdout",
          "text": [
            "Using device: cpu\n"
          ]
        }
      ]
    },
    {
      "cell_type": "code",
      "source": [
        "# Create some data using the linear regression formula of y = weight * X + bias\n",
        "weight = .2\n",
        "bias = .8\n",
        "\n",
        "# Create range values\n",
        "start = 0\n",
        "end = 1\n",
        "step = .02\n",
        "\n",
        "# Create X and y (features and labels)\n",
        "X = torch.arange(start, end, step).unsqueeze(dim=1) # without unsqueeze, errors will pop up\n",
        "y = weight * X + bias\n",
        "X[:10], y[:10]"
      ],
      "metadata": {
        "colab": {
          "base_uri": "https://localhost:8080/"
        },
        "id": "o2gCzqsjGJ_T",
        "outputId": "7bb4f372-2948-4862-da9f-ccab78a0bf29"
      },
      "execution_count": 3,
      "outputs": [
        {
          "output_type": "execute_result",
          "data": {
            "text/plain": [
              "(tensor([[0.0000],\n",
              "         [0.0200],\n",
              "         [0.0400],\n",
              "         [0.0600],\n",
              "         [0.0800],\n",
              "         [0.1000],\n",
              "         [0.1200],\n",
              "         [0.1400],\n",
              "         [0.1600],\n",
              "         [0.1800]]),\n",
              " tensor([[0.8000],\n",
              "         [0.8040],\n",
              "         [0.8080],\n",
              "         [0.8120],\n",
              "         [0.8160],\n",
              "         [0.8200],\n",
              "         [0.8240],\n",
              "         [0.8280],\n",
              "         [0.8320],\n",
              "         [0.8360]]))"
            ]
          },
          "metadata": {},
          "execution_count": 3
        }
      ]
    },
    {
      "cell_type": "code",
      "source": [
        "# Split data\n",
        "train_split = int(.8 * len(X)) # Splitting data into 80% for training and 20% for testing\n",
        "X_train = X[:train_split] #Defining that X training starts from 0 to 80% of data\n",
        "X_test = X[train_split:] # Defining that the remaining data is for testing\n",
        "y_train = y[:train_split]\n",
        "y_test = y[train_split:]\n",
        "len(X_train), len(X_test), len(y_train), len(y_test)"
      ],
      "metadata": {
        "colab": {
          "base_uri": "https://localhost:8080/"
        },
        "id": "qretGuaRGLsc",
        "outputId": "2b5f695d-2757-4ec8-bd2b-2fff244ac32f"
      },
      "execution_count": 4,
      "outputs": [
        {
          "output_type": "execute_result",
          "data": {
            "text/plain": [
              "(40, 10, 40, 10)"
            ]
          },
          "metadata": {},
          "execution_count": 4
        }
      ]
    },
    {
      "cell_type": "code",
      "source": [
        "# Graph Function\n",
        "def plot_predictions(train_data=X_train,\n",
        "                     train_labels=y_train,\n",
        "                     test_data=X_test,\n",
        "                     test_labels=y_test,\n",
        "                     predictions=None):\n",
        "  # Plots training data, test data and compares predictions\n",
        "  plt.figure(figsize=(10,7))\n",
        "\n",
        "  #Plot training data in blue\n",
        "  plt.scatter(train_data, train_labels, c=\"b\", s=4, label=\"Training data\")\n",
        "\n",
        "  #Plot test data in green\n",
        "  plt.scatter(test_data, test_labels, c=\"g\", s=4, label=\"Testing data\")\n",
        "\n",
        "  # Are there predictions?\n",
        "  if predictions is not None:\n",
        "    # Plot the predictions if they exist\n",
        "    plt.scatter(test_data, predictions, c=\"r\", s=4, label=\"Predictions\")\n",
        "\n",
        "    # Show the legend\n",
        "    plt.legend(prop={'size': 20});"
      ],
      "metadata": {
        "id": "EOkb_z5cGNjK"
      },
      "execution_count": 5,
      "outputs": []
    },
    {
      "cell_type": "code",
      "source": [
        "# VISUALIZE\n",
        "plot_predictions(X_train, y_train, X_test, y_test)"
      ],
      "metadata": {
        "colab": {
          "base_uri": "https://localhost:8080/",
          "height": 599
        },
        "id": "odAmOmKAGPfu",
        "outputId": "65a91563-f647-457a-8f64-7076002f8d43"
      },
      "execution_count": 6,
      "outputs": [
        {
          "output_type": "display_data",
          "data": {
            "text/plain": [
              "<Figure size 1000x700 with 1 Axes>"
            ],
            "image/png": "[encoded data removed]"
          },
          "metadata": {}
        }
      ]
    },
    {
      "cell_type": "code",
      "source": [
        "# Building a PyTorch Linear Model\n",
        "# Create a linear model by subclassing nn.Module\n",
        "class LinearRegressionModelV2(nn.Module):\n",
        "  def __init__(self):\n",
        "    super().__init__()\n",
        "    # Use nn.Linear() for creating the model parameters / also called: linear transform\n",
        "    self.linear_layer = nn.Linear(in_features=1,   # Little shortcut to prev class code, using linear layer. The input is 1 x gets 1 y so the input=1 and output=1\n",
        "                                  out_features=1)\n",
        "\n",
        "  def forward(self, x: torch.Tensor) -> torch.Tensor:\n",
        "    return self.linear_layer(x)\n",
        "\n",
        "# Set manual seed\n",
        "torch.manual_seed(87)\n",
        "model_1 = LinearRegressionModelV2() # Create an instance of the model\n",
        "model_1, model_1.state_dict() # Call state_dict() on the instance"
      ],
      "metadata": {
        "colab": {
          "base_uri": "https://localhost:8080/"
        },
        "id": "oPN0TuK4GRhK",
        "outputId": "6e62c7cb-bc6d-4152-9d54-ca845c21e12e"
      },
      "execution_count": 7,
      "outputs": [
        {
          "output_type": "execute_result",
          "data": {
            "text/plain": [
              "(LinearRegressionModelV2(\n",
              "   (linear_layer): Linear(in_features=1, out_features=1, bias=True)\n",
              " ),\n",
              " OrderedDict([('linear_layer.weight', tensor([[-0.9927]])),\n",
              "              ('linear_layer.bias', tensor([0.7862]))]))"
            ]
          },
          "metadata": {},
          "execution_count": 7
        }
      ]
    },
    {
      "cell_type": "code",
      "source": [
        "# Check the model current device\n",
        "next(model_1.parameters()).device"
      ],
      "metadata": {
        "colab": {
          "base_uri": "https://localhost:8080/"
        },
        "id": "UDvPbRNCGUWE",
        "outputId": "2f5c478a-f748-47d1-b7ac-d4a0892ed3e2"
      },
      "execution_count": 8,
      "outputs": [
        {
          "output_type": "execute_result",
          "data": {
            "text/plain": [
              "device(type='cpu')"
            ]
          },
          "metadata": {},
          "execution_count": 8
        }
      ]
    },
    {
      "cell_type": "code",
      "source": [
        "# Set the model to use the target device\n",
        "model_1.to(device)\n",
        "next(model_1.parameters()).device"
      ],
      "metadata": {
        "colab": {
          "base_uri": "https://localhost:8080/"
        },
        "id": "eIJa5UBYGWae",
        "outputId": "0fd80a33-4dd7-46aa-a119-83ba66c75d03"
      },
      "execution_count": 9,
      "outputs": [
        {
          "output_type": "execute_result",
          "data": {
            "text/plain": [
              "device(type='cpu')"
            ]
          },
          "metadata": {},
          "execution_count": 9
        }
      ]
    },
    {
      "cell_type": "code",
      "source": [
        "# Setup loss function\n",
        "loss_fn = nn.L1Loss() # same as MAE\n",
        "\n",
        "# Setup our optimizer\n",
        "optimizer = torch.optim.SGD(params=model_1.parameters(),\n",
        "                            lr=0.01)"
      ],
      "metadata": {
        "id": "kjybWUibGYPB"
      },
      "execution_count": 10,
      "outputs": []
    },
    {
      "cell_type": "code",
      "source": [
        "#Training loop\n",
        "torch.manual_seed(87)\n",
        "\n",
        "epochs = 1000\n",
        "\n",
        "# Put data on the target device (device agnostic code for data)\n",
        "# X_train = X_train.to(device) # This line is not needed here\n",
        "# X_test = X_test.to(device) # This line is not needed here\n",
        "# y_train = y_train.to(device) # This line is not needed here\n",
        "# y_test = y_test.to(device) # This line is not needed here\n",
        "\n",
        "\n",
        "for epoch in range(epochs):\n",
        "  model_1.train()\n",
        "\n",
        "  # 1. Forward Pass\n",
        "  y_pred = model_1(X_train.to(device)) # Move X_train to the device here\n",
        "\n",
        "  # 2. Calculate the loss\n",
        "  loss = loss_fn(y_pred, y_train.to(device)) # Move y_train to the device here\n",
        "\n",
        "  # 3. Optimizer zero grad\n",
        "  optimizer.zero_grad()\n",
        "\n",
        "  # 4. Backpropagation\n",
        "  loss.backward()\n",
        "\n",
        "  # 5. Optimizer step\n",
        "  optimizer.step()\n",
        "\n",
        "  ### Testing\n",
        "  model_1.eval()\n",
        "  with torch.inference_mode():\n",
        "    test_pred = model_1(X_test.to(device)) # Move X_test to the device here\n",
        "\n",
        "    test_loss = loss_fn(test_pred, y_test.to(device)) # Move y_test to the device here\n",
        "\n",
        "  # Print out whats happenin\n",
        "\n",
        "  if epoch % 10 ==0:\n",
        "    print(f\"Epoch: {epoch} | Loss: {loss} | Test loss: {test_loss}\")"
      ],
      "metadata": {
        "colab": {
          "base_uri": "https://localhost:8080/"
        },
        "id": "xLOPAY5IGZz3",
        "outputId": "21f29b97-1b87-4b41-edc3-a50f733e4dfb"
      },
      "execution_count": 11,
      "outputs": [
        {
          "output_type": "stream",
          "name": "stdout",
          "text": [
            "Epoch: 0 | Loss: 0.47899603843688965 | Test loss: 1.0618950128555298\n",
            "Epoch: 10 | Loss: 0.3809441924095154 | Test loss: 0.9378452301025391\n",
            "Epoch: 20 | Loss: 0.31424713134765625 | Test loss: 0.8334168195724487\n",
            "Epoch: 30 | Loss: 0.2691723704338074 | Test loss: 0.7463662624359131\n",
            "Epoch: 40 | Loss: 0.23882374167442322 | Test loss: 0.6739519238471985\n",
            "Epoch: 50 | Loss: 0.2186906784772873 | Test loss: 0.6148779988288879\n",
            "Epoch: 60 | Loss: 0.20521724224090576 | Test loss: 0.5670468807220459\n",
            "Epoch: 70 | Loss: 0.1957639455795288 | Test loss: 0.5281562209129333\n",
            "Epoch: 80 | Loss: 0.18883825838565826 | Test loss: 0.49641141295433044\n",
            "Epoch: 90 | Loss: 0.18355543911457062 | Test loss: 0.47126060724258423\n",
            "Epoch: 100 | Loss: 0.17904207110404968 | Test loss: 0.45078450441360474\n",
            "Epoch: 110 | Loss: 0.17504212260246277 | Test loss: 0.43298467993736267\n",
            "Epoch: 120 | Loss: 0.17116859555244446 | Test loss: 0.41721877455711365\n",
            "Epoch: 130 | Loss: 0.1676785945892334 | Test loss: 0.4061984121799469\n",
            "Epoch: 140 | Loss: 0.16418860852718353 | Test loss: 0.3951779901981354\n",
            "Epoch: 150 | Loss: 0.16069863736629486 | Test loss: 0.38415759801864624\n",
            "Epoch: 160 | Loss: 0.157208651304245 | Test loss: 0.37313729524612427\n",
            "Epoch: 170 | Loss: 0.15371868014335632 | Test loss: 0.36211690306663513\n",
            "Epoch: 180 | Loss: 0.15022867918014526 | Test loss: 0.3510965406894684\n",
            "Epoch: 190 | Loss: 0.14677707850933075 | Test loss: 0.34213706851005554\n",
            "Epoch: 200 | Loss: 0.1433473378419876 | Test loss: 0.3345515727996826\n",
            "Epoch: 210 | Loss: 0.13991226255893707 | Test loss: 0.32627907395362854\n",
            "Epoch: 220 | Loss: 0.13647383451461792 | Test loss: 0.3186935782432556\n",
            "Epoch: 230 | Loss: 0.13304539024829865 | Test loss: 0.31042107939720154\n",
            "Epoch: 240 | Loss: 0.1296086311340332 | Test loss: 0.30214864015579224\n",
            "Epoch: 250 | Loss: 0.12617187201976776 | Test loss: 0.29456308484077454\n",
            "Epoch: 260 | Loss: 0.12274342775344849 | Test loss: 0.28629061579704285\n",
            "Epoch: 270 | Loss: 0.11930499225854874 | Test loss: 0.27801811695098877\n",
            "Epoch: 280 | Loss: 0.1158699244260788 | Test loss: 0.27043262124061584\n",
            "Epoch: 290 | Loss: 0.11244016885757446 | Test loss: 0.26216015219688416\n",
            "Epoch: 300 | Loss: 0.10900136083364487 | Test loss: 0.2538876533508301\n",
            "Epoch: 310 | Loss: 0.10556795448064804 | Test loss: 0.24630215764045715\n",
            "Epoch: 320 | Loss: 0.1021365374326706 | Test loss: 0.23802967369556427\n",
            "Epoch: 330 | Loss: 0.0986977368593216 | Test loss: 0.229757159948349\n",
            "Epoch: 340 | Loss: 0.09526599943637848 | Test loss: 0.2221716195344925\n",
            "Epoch: 350 | Loss: 0.09183290600776672 | Test loss: 0.21389925479888916\n",
            "Epoch: 360 | Loss: 0.08839410543441772 | Test loss: 0.20562691986560822\n",
            "Epoch: 370 | Loss: 0.08496402204036713 | Test loss: 0.19804148375988007\n",
            "Epoch: 380 | Loss: 0.08152929693460464 | Test loss: 0.18976914882659912\n",
            "Epoch: 390 | Loss: 0.07809053361415863 | Test loss: 0.18218371272087097\n",
            "Epoch: 400 | Loss: 0.07466207444667816 | Test loss: 0.1739114224910736\n",
            "Epoch: 410 | Loss: 0.07122568786144257 | Test loss: 0.16563911736011505\n",
            "Epoch: 420 | Loss: 0.06778857111930847 | Test loss: 0.1580536663532257\n",
            "Epoch: 430 | Loss: 0.0643601268529892 | Test loss: 0.14978137612342834\n",
            "Epoch: 440 | Loss: 0.06092206761240959 | Test loss: 0.1415090411901474\n",
            "Epoch: 450 | Loss: 0.057486630976200104 | Test loss: 0.13392360508441925\n",
            "Epoch: 460 | Loss: 0.05405726283788681 | Test loss: 0.1256512850522995\n",
            "Epoch: 470 | Loss: 0.05061845853924751 | Test loss: 0.11737897247076035\n",
            "Epoch: 480 | Loss: 0.047184668481349945 | Test loss: 0.1097935289144516\n",
            "Epoch: 490 | Loss: 0.04375365376472473 | Test loss: 0.10152120888233185\n",
            "Epoch: 500 | Loss: 0.040314849466085434 | Test loss: 0.09324890375137329\n",
            "Epoch: 510 | Loss: 0.03688271716237068 | Test loss: 0.08566346019506454\n",
            "Epoch: 520 | Loss: 0.03345004469156265 | Test loss: 0.0773911401629448\n",
            "Epoch: 530 | Loss: 0.030011236667633057 | Test loss: 0.06911883503198624\n",
            "Epoch: 540 | Loss: 0.02658076211810112 | Test loss: 0.06153339892625809\n",
            "Epoch: 550 | Loss: 0.023146433755755424 | Test loss: 0.053261078894138336\n",
            "Epoch: 560 | Loss: 0.019707631319761276 | Test loss: 0.04498877376317978\n",
            "Epoch: 570 | Loss: 0.016278814524412155 | Test loss: 0.037403322756290436\n",
            "Epoch: 580 | Loss: 0.012842823751270771 | Test loss: 0.029131019487977028\n",
            "Epoch: 590 | Loss: 0.00940531212836504 | Test loss: 0.021545570343732834\n",
            "Epoch: 600 | Loss: 0.005976863205432892 | Test loss: 0.013273263350129128\n",
            "Epoch: 610 | Loss: 0.0025392144452780485 | Test loss: 0.005000948905944824\n",
            "Epoch: 620 | Loss: 0.004970940761268139 | Test loss: 0.0051101744174957275\n",
            "Epoch: 630 | Loss: 0.004970940761268139 | Test loss: 0.0051101744174957275\n",
            "Epoch: 640 | Loss: 0.004970940761268139 | Test loss: 0.0051101744174957275\n",
            "Epoch: 650 | Loss: 0.004970940761268139 | Test loss: 0.0051101744174957275\n",
            "Epoch: 660 | Loss: 0.004970940761268139 | Test loss: 0.0051101744174957275\n",
            "Epoch: 670 | Loss: 0.004970940761268139 | Test loss: 0.0051101744174957275\n",
            "Epoch: 680 | Loss: 0.004970940761268139 | Test loss: 0.0051101744174957275\n",
            "Epoch: 690 | Loss: 0.004970940761268139 | Test loss: 0.0051101744174957275\n",
            "Epoch: 700 | Loss: 0.004970940761268139 | Test loss: 0.0051101744174957275\n",
            "Epoch: 710 | Loss: 0.004970940761268139 | Test loss: 0.0051101744174957275\n",
            "Epoch: 720 | Loss: 0.004970940761268139 | Test loss: 0.0051101744174957275\n",
            "Epoch: 730 | Loss: 0.004970940761268139 | Test loss: 0.0051101744174957275\n",
            "Epoch: 740 | Loss: 0.004970940761268139 | Test loss: 0.0051101744174957275\n",
            "Epoch: 750 | Loss: 0.004970940761268139 | Test loss: 0.0051101744174957275\n",
            "Epoch: 760 | Loss: 0.004970940761268139 | Test loss: 0.0051101744174957275\n",
            "Epoch: 770 | Loss: 0.004970940761268139 | Test loss: 0.0051101744174957275\n",
            "Epoch: 780 | Loss: 0.004970940761268139 | Test loss: 0.0051101744174957275\n",
            "Epoch: 790 | Loss: 0.004970940761268139 | Test loss: 0.0051101744174957275\n",
            "Epoch: 800 | Loss: 0.004970940761268139 | Test loss: 0.0051101744174957275\n",
            "Epoch: 810 | Loss: 0.004970940761268139 | Test loss: 0.0051101744174957275\n",
            "Epoch: 820 | Loss: 0.004970940761268139 | Test loss: 0.0051101744174957275\n",
            "Epoch: 830 | Loss: 0.004970940761268139 | Test loss: 0.0051101744174957275\n",
            "Epoch: 840 | Loss: 0.004970940761268139 | Test loss: 0.0051101744174957275\n",
            "Epoch: 850 | Loss: 0.004970940761268139 | Test loss: 0.0051101744174957275\n",
            "Epoch: 860 | Loss: 0.004970940761268139 | Test loss: 0.0051101744174957275\n",
            "Epoch: 870 | Loss: 0.004970940761268139 | Test loss: 0.0051101744174957275\n",
            "Epoch: 880 | Loss: 0.004970940761268139 | Test loss: 0.0051101744174957275\n",
            "Epoch: 890 | Loss: 0.004970940761268139 | Test loss: 0.0051101744174957275\n",
            "Epoch: 900 | Loss: 0.004970940761268139 | Test loss: 0.0051101744174957275\n",
            "Epoch: 910 | Loss: 0.004970940761268139 | Test loss: 0.0051101744174957275\n",
            "Epoch: 920 | Loss: 0.004970940761268139 | Test loss: 0.0051101744174957275\n",
            "Epoch: 930 | Loss: 0.004970940761268139 | Test loss: 0.0051101744174957275\n",
            "Epoch: 940 | Loss: 0.004970940761268139 | Test loss: 0.0051101744174957275\n",
            "Epoch: 950 | Loss: 0.004970940761268139 | Test loss: 0.0051101744174957275\n",
            "Epoch: 960 | Loss: 0.004970940761268139 | Test loss: 0.0051101744174957275\n",
            "Epoch: 970 | Loss: 0.004970940761268139 | Test loss: 0.0051101744174957275\n",
            "Epoch: 980 | Loss: 0.004970940761268139 | Test loss: 0.0051101744174957275\n",
            "Epoch: 990 | Loss: 0.004970940761268139 | Test loss: 0.0051101744174957275\n"
          ]
        }
      ]
    },
    {
      "cell_type": "code",
      "source": [
        "model_1.state_dict()"
      ],
      "metadata": {
        "colab": {
          "base_uri": "https://localhost:8080/"
        },
        "id": "BhkUHAJ9GfO6",
        "outputId": "a4b9bcf1-8da8-48fa-faf8-e66faa7d818c"
      },
      "execution_count": 12,
      "outputs": [
        {
          "output_type": "execute_result",
          "data": {
            "text/plain": [
              "OrderedDict([('linear_layer.weight', tensor([[0.1932]])),\n",
              "             ('linear_layer.bias', tensor([0.7977]))])"
            ]
          },
          "metadata": {},
          "execution_count": 12
        }
      ]
    },
    {
      "cell_type": "code",
      "source": [
        "# Turn model into eval mode\n",
        "model_1.eval()\n",
        "\n",
        "# Make predictions on the test data\n",
        "with torch.inference_mode():\n",
        "  y_preds = model_1(X_test)\n",
        "y_preds"
      ],
      "metadata": {
        "colab": {
          "base_uri": "https://localhost:8080/"
        },
        "id": "nuJjDx_lGiBu",
        "outputId": "80eeb1e2-0a74-4b95-d774-77705c2f5c31"
      },
      "execution_count": 13,
      "outputs": [
        {
          "output_type": "execute_result",
          "data": {
            "text/plain": [
              "tensor([[0.9522],\n",
              "        [0.9561],\n",
              "        [0.9600],\n",
              "        [0.9638],\n",
              "        [0.9677],\n",
              "        [0.9716],\n",
              "        [0.9754],\n",
              "        [0.9793],\n",
              "        [0.9832],\n",
              "        [0.9870]])"
            ]
          },
          "metadata": {},
          "execution_count": 13
        }
      ]
    },
    {
      "cell_type": "code",
      "source": [
        "# Check out our model predictions visually\n",
        "plot_predictions(predictions = y_preds.cpu())"
      ],
      "metadata": {
        "colab": {
          "base_uri": "https://localhost:8080/",
          "height": 599
        },
        "id": "hcf-UqwjGj6c",
        "outputId": "fd4e092e-3df3-482b-e436-a3c9040e16c0"
      },
      "execution_count": 14,
      "outputs": [
        {
          "output_type": "display_data",
          "data": {
            "text/plain": [
              "<Figure size 1000x700 with 1 Axes>"
            ],
            "image/png": "[encoded data removed]"
          },
          "metadata": {}
        }
      ]
    }
  ]
}