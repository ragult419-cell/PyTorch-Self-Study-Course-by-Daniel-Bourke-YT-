{
  "nbformat": 4,
  "nbformat_minor": 0,
  "metadata": {
    "colab": {
      "provenance": []
    },
    "kernelspec": {
      "name": "python3",
      "display_name": "Python 3"
    },
    "language_info": {
      "name": "python"
    }
  },
  "cells": [
    {
      "cell_type": "code",
      "execution_count": null,
      "metadata": {
        "colab": {
          "base_uri": "https://localhost:8080/"
        },
        "id": "fXZiy_iwcVdb",
        "outputId": "cda792f5-1da8-46cb-9e35-fa30d3bc16ec"
      },
      "outputs": [
        {
          "output_type": "stream",
          "name": "stdout",
          "text": [
            "2.8.0+cu126\n",
            "False\n"
          ]
        }
      ],
      "source": [
        "import torch\n",
        "\n",
        "print(torch.__version__)       # Check PyTorch version\n",
        "print(torch.cuda.is_available())  # Check if GPU is available\n"
      ]
    },
    {
      "cell_type": "code",
      "source": [
        "# Create a simple tensor\n",
        "x = torch.tensor([1, 2, 3])\n",
        "print(\"x:\", x)\n",
        "\n",
        "# Random tensor (2x3 matrix)\n",
        "y = torch.rand(2, 3)\n",
        "print(\"y:\\n\", y)\n"
      ],
      "metadata": {
        "colab": {
          "base_uri": "https://localhost:8080/"
        },
        "id": "yv_EOxQdce68",
        "outputId": "4aff2a47-e202-4fbc-b854-453f6f6d20ae"
      },
      "execution_count": null,
      "outputs": [
        {
          "output_type": "stream",
          "name": "stdout",
          "text": [
            "x: tensor([1, 2, 3])\n",
            "y:\n",
            " tensor([[0.3817, 0.6827, 0.9231],\n",
            "        [0.2288, 0.8007, 0.6519]])\n"
          ]
        }
      ]
    },
    {
      "cell_type": "code",
      "source": [
        "a = torch.tensor([2.0, 4.0, 6.0])\n",
        "b = torch.tensor([1.0, 2.0, 3.0])\n",
        "\n",
        "print(\"Addition:\", a + b)\n",
        "print(\"Multiplication:\", a * b)\n",
        "print(\"Dot product:\", torch.dot(a, b))\n"
      ],
      "metadata": {
        "colab": {
          "base_uri": "https://localhost:8080/"
        },
        "id": "ZYROjdRfchY8",
        "outputId": "abd319f1-faf7-4e8c-db10-876cfb45623f"
      },
      "execution_count": null,
      "outputs": [
        {
          "output_type": "stream",
          "name": "stdout",
          "text": [
            "Addition: tensor([3., 6., 9.])\n",
            "Multiplication: tensor([ 2.,  8., 18.])\n",
            "Dot product: tensor(28.)\n"
          ]
        }
      ]
    },
    {
      "cell_type": "code",
      "source": [
        "import torch.nn as nn\n",
        "import torch.optim as optim\n",
        "\n",
        "# Define a simple model\n",
        "model = nn.Sequential(\n",
        "    nn.Linear(2, 2),   # Input layer -> hidden\n",
        "    nn.ReLU(),\n",
        "    nn.Linear(2, 1)    # Hidden -> output\n",
        ")\n",
        "\n",
        "# Example input\n",
        "inputs = torch.tensor([[1.0, 2.0], [2.0, 3.0]])\n",
        "targets = torch.tensor([[1.0], [0.0]])\n",
        "\n",
        "# Loss and optimizer\n",
        "criterion = nn.MSELoss()\n",
        "optimizer = optim.SGD(model.parameters(), lr=0.01)\n",
        "\n",
        "# Training step\n",
        "for epoch in range(10):\n",
        "    outputs = model(inputs)\n",
        "    loss = criterion(outputs, targets)\n",
        "\n",
        "    optimizer.zero_grad()\n",
        "    loss.backward()\n",
        "    optimizer.step()\n",
        "\n",
        "    print(f\"Epoch {epoch+1}, Loss: {loss.item()}\")\n"
      ],
      "metadata": {
        "id": "sYzppDURclBS",
        "outputId": "1bf37e46-cfbc-4cd8-ba56-a03847213df9",
        "colab": {
          "base_uri": "https://localhost:8080/"
        }
      },
      "execution_count": null,
      "outputs": [
        {
          "output_type": "stream",
          "name": "stdout",
          "text": [
            "Epoch 1, Loss: 0.254345566034317\n",
            "Epoch 2, Loss: 0.25417348742485046\n",
            "Epoch 3, Loss: 0.2540082335472107\n",
            "Epoch 4, Loss: 0.25384950637817383\n",
            "Epoch 5, Loss: 0.25369706749916077\n",
            "Epoch 6, Loss: 0.25355064868927\n",
            "Epoch 7, Loss: 0.2534100413322449\n",
            "Epoch 8, Loss: 0.2532750070095062\n",
            "Epoch 9, Loss: 0.25314533710479736\n",
            "Epoch 10, Loss: 0.2530207931995392\n"
          ]
        }
      ]
    }
  ]
}